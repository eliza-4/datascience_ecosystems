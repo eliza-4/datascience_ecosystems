{
 "cells": [
  {
   "cell_type": "markdown",
   "id": "6c7e53bb-04f4-4b02-9d36-f606601c1c36",
   "metadata": {},
   "source": [
    "# Data Science Tools and Ecosystem"
   ]
  },
  {
   "cell_type": "markdown",
   "id": "dc6459b0-11ef-47e6-bb14-0a3ffda427ce",
   "metadata": {},
   "source": [
    "In this notebook, Data Science Tools and Ecosystem are discussed."
   ]
  },
  {
   "cell_type": "markdown",
   "id": "bb931578-c06e-4827-bf57-a7bb4d239caa",
   "metadata": {},
   "source": [
    "**Objectives:**"
   ]
  },
  {
   "cell_type": "markdown",
   "id": "80b770a2-1ce2-4098-a6e2-850242b99947",
   "metadata": {},
   "source": [
    "* Popular Languages for Data Scientists\n",
    "* Commonly Used Libraries for Data Scientists\n",
    "* Data Science Tools"
   ]
  },
  {
   "cell_type": "markdown",
   "id": "78bf5c41-4eb8-4684-93a1-ebb026063572",
   "metadata": {},
   "source": [
    "A few of the popular languages data scientists use are: "
   ]
  },
  {
   "cell_type": "markdown",
   "id": "96efca6d-ad22-456e-bfe2-01710d19e509",
   "metadata": {},
   "source": [
    "1. R\n",
    "2. Python\n",
    "3. SQL"
   ]
  },
  {
   "cell_type": "markdown",
   "id": "f977049c-afa8-4fc0-9411-7d989d3bc74e",
   "metadata": {},
   "source": [
    "Some of the commonly used libraries used by data scientists are:"
   ]
  },
  {
   "cell_type": "markdown",
   "id": "974d6ade-ea97-4bd3-ad3e-ec16d08679bd",
   "metadata": {},
   "source": [
    "1. Pandas\n",
    "2. NumPy\n",
    "3. TensorFlow"
   ]
  },
  {
   "cell_type": "markdown",
   "id": "3c2a2c0c-a2f4-47a2-b25d-47b99a0db33a",
   "metadata": {},
   "source": [
    "|Data Science Tools|\n",
    "|------------------|\n",
    "|Apache Spark      |\n",
    "|Juptyer           |\n",
    "|Apache Hadoop     |"
   ]
  },
  {
   "cell_type": "markdown",
   "id": "5cdc0b5e-149e-4583-a2b4-38acdd62b6bc",
   "metadata": {},
   "source": [
    "### Below are a few examples of evaluating arithmetic expressions in Python."
   ]
  },
  {
   "cell_type": "code",
   "execution_count": 1,
   "id": "5530e064-63d2-46ce-8291-aef2c9ec025f",
   "metadata": {},
   "outputs": [
    {
     "data": {
      "text/plain": [
       "17"
      ]
     },
     "execution_count": 1,
     "metadata": {},
     "output_type": "execute_result"
    }
   ],
   "source": [
    "(3*4)+5"
   ]
  },
  {
   "cell_type": "code",
   "execution_count": 110,
   "id": "ca6ac46c-43c5-43df-86db-25c44d1377d4",
   "metadata": {},
   "outputs": [
    {
     "name": "stdout",
     "output_type": "stream",
     "text": [
      "200 minutes is equal to 3.333333hours.\n"
     ]
    }
   ],
   "source": [
    "minutes = 200\n",
    "\n",
    "hours = minutes / 60\n",
    "\n",
    "print(f\"{minutes} minutes is equal to {hours:2f}hours.\")  # This will convert 200 minutes to hours by dividing by 60."
   ]
  },
  {
   "cell_type": "markdown",
   "id": "2b3eb3c8-003c-4f62-b5a3-2a67ca0f0fbe",
   "metadata": {},
   "source": [
    "## Author"
   ]
  },
  {
   "cell_type": "markdown",
   "id": "58f1cc0f-3977-45ae-95ba-0dbc8fb6f4bf",
   "metadata": {},
   "source": [
    "Elizabeth Fisher"
   ]
  },
  {
   "cell_type": "code",
   "execution_count": null,
   "id": "991849a6-d7fa-4c00-9151-cfe369ebfafb",
   "metadata": {},
   "outputs": [],
   "source": []
  }
 ],
 "metadata": {
  "kernelspec": {
   "display_name": "Python 3 (ipykernel)",
   "language": "python",
   "name": "python3"
  },
  "language_info": {
   "codemirror_mode": {
    "name": "ipython",
    "version": 3
   },
   "file_extension": ".py",
   "mimetype": "text/x-python",
   "name": "python",
   "nbconvert_exporter": "python",
   "pygments_lexer": "ipython3",
   "version": "3.12.8"
  }
 },
 "nbformat": 4,
 "nbformat_minor": 5
}
